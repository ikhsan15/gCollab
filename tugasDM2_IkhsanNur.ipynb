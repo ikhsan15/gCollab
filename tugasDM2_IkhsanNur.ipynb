{
  "nbformat": 4,
  "nbformat_minor": 0,
  "metadata": {
    "colab": {
      "name": "tugasDM2_IkhsanNur.ipynb",
      "provenance": [],
      "collapsed_sections": []
    },
    "kernelspec": {
      "name": "python3",
      "display_name": "Python 3"
    },
    "language_info": {
      "name": "python"
    }
  },
  "cells": [
    {
      "cell_type": "code",
      "metadata": {
        "id": "7Ocnf-b9n4zo"
      },
      "source": [
        "# import libraries\n",
        "import numpy as np\n",
        "import pandas as pd"
      ],
      "execution_count": null,
      "outputs": []
    },
    {
      "cell_type": "code",
      "metadata": {
        "id": "PR69EgZPoI8O"
      },
      "source": [
        "dataset = pd.read_excel('P1-SuperStoreUS-2015-tugas.xlsx')"
      ],
      "execution_count": null,
      "outputs": []
    },
    {
      "cell_type": "code",
      "metadata": {
        "id": "yPglqXBGo-Om"
      },
      "source": [
        "dataset"
      ],
      "execution_count": null,
      "outputs": []
    },
    {
      "cell_type": "code",
      "metadata": {
        "id": "HlHAmA82pEkd"
      },
      "source": [
        "# cari missing values\n",
        "dataset.apply(lambda x: sum(x.isnull()),axis=0)"
      ],
      "execution_count": null,
      "outputs": []
    },
    {
      "cell_type": "code",
      "metadata": {
        "id": "Nkp6x3xwqgJa"
      },
      "source": [
        "# ubah missing values\n",
        "dataset['Product Base Margin'].fillna(dataset['Product Base Margin'].mean(),inplace=True)\n",
        "dataset['Region'] = dataset['Region'].fillna(0)\n",
        "dataset['Postal Code'].fillna(dataset['Postal Code'].mean(),inplace=True)\n",
        "dataset['Profit'].fillna(dataset['Profit'].mean(),inplace=True)\n",
        "# dataset['Product Category'] = dataset['Product Category'].astype('category').cat.codes\n",
        "\n",
        "dataset"
      ],
      "execution_count": null,
      "outputs": []
    },
    {
      "cell_type": "markdown",
      "metadata": {
        "id": "wkDoEGK0_T0q"
      },
      "source": [
        ""
      ]
    },
    {
      "cell_type": "code",
      "metadata": {
        "id": "6Q_QP4juurqi"
      },
      "source": [
        "quit()"
      ],
      "execution_count": null,
      "outputs": []
    },
    {
      "cell_type": "code",
      "metadata": {
        "id": "D2S9iWBgwYkY"
      },
      "source": [
        "# ubah label kategori jadi nilai number\n",
        "dataset['Order Priority'] = dataset['Order Priority'].astype('category').cat.codes\n",
        "dataset['Customer Name'] = dataset['Customer Name'].astype('category').cat.codes\n",
        "dataset['Ship Mode'] = dataset['Ship Mode'].astype('category').cat.codes\n",
        "dataset['Customer Segment'] = dataset['Customer Segment'].astype('category').cat.codes\n",
        "dataset['Product Category'] = dataset['Product Category'].astype('category').cat.codes\n",
        "dataset['Product Sub-Category'] = dataset['Product Sub-Category'].astype('category').cat.codes\n",
        "dataset['Product Container'] = dataset['Product Container'].astype('category').cat.codes\n",
        "dataset['Product Name'] = dataset['Product Name'].astype('category').cat.codes\n",
        "dataset['Country'] = dataset['Country'].astype('category').cat.codes\n",
        "dataset['Region'] = dataset['Region'].astype('category').cat.codes\n",
        "dataset['State or Province'] = dataset['State or Province'].astype('category').cat.codes\n",
        "dataset['City'] = dataset['City'].astype('category').cat.codes\n",
        "dataset['Order Date'] = dataset['Order Date'].astype('category').cat.codes\n",
        "dataset['Ship Date'] = dataset['Ship Date'].astype('category').cat.codes\n",
        "\n",
        "dataset"
      ],
      "execution_count": null,
      "outputs": []
    },
    {
      "cell_type": "code",
      "metadata": {
        "id": "xxEdGO2Rv6kI"
      },
      "source": [
        "import seaborn as sns\n",
        "import matplotlib.pyplot as plt\n",
        "\n",
        "plt.figure(figsize=(60,15))\n",
        "sns.boxplot(data=dataset)"
      ],
      "execution_count": null,
      "outputs": []
    },
    {
      "cell_type": "markdown",
      "metadata": {
        "id": "uZvVDNOLESgm"
      },
      "source": [
        ""
      ]
    },
    {
      "cell_type": "code",
      "metadata": {
        "id": "4kD-3IV5vuxq"
      },
      "source": [
        "# from sklearn.datasets import load_boston\n",
        "# boston = load_boston()\n",
        "# x = boston.data\n",
        "# y = boston.target\n",
        "# columns = boston.feature_names"
      ],
      "execution_count": null,
      "outputs": []
    },
    {
      "cell_type": "code",
      "metadata": {
        "id": "DVbDjAconq_7"
      },
      "source": [
        "# # buat dataframe\n",
        "# boston_df = pd.DataFrame(boston.data)\n",
        "# boston_df.columns = columns\n",
        "# boston_df.head()"
      ],
      "execution_count": null,
      "outputs": []
    },
    {
      "cell_type": "code",
      "metadata": {
        "id": "GJ524fcuoisz"
      },
      "source": [
        "# boston"
      ],
      "execution_count": null,
      "outputs": []
    }
  ]
}