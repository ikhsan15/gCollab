{
  "nbformat": 4,
  "nbformat_minor": 0,
  "metadata": {
    "colab": {
      "name": "UTS_IkhsanNur_dtMining",
      "provenance": [],
      "collapsed_sections": []
    },
    "kernelspec": {
      "name": "python3",
      "display_name": "Python 3"
    },
    "language_info": {
      "name": "python"
    }
  },
  "cells": [
    {
      "cell_type": "code",
      "metadata": {
        "id": "iNp1_VLYi-sE"
      },
      "source": [
        "# import library\n",
        "\n",
        "import pandas as pd\n",
        "from sklearn.tree import DecisionTreeClassifier\n",
        "from sklearn.naive_bayes import MultinomialNB\n",
        "from sklearn.metrics import classification_report, confusion_matrix, accuracy_score"
      ],
      "execution_count": 2,
      "outputs": []
    },
    {
      "cell_type": "code",
      "metadata": {
        "id": "j-eVIvL7jP-0"
      },
      "source": [
        "# data training di definisikan\n",
        "\n",
        "dt_train = {\n",
        "  'no'                : [1, 2, 3, 4, 5, 6, 7, 8, 9, 10],\n",
        "  'warna'             : ['Hitam', 'Putih', 'Cokelat', 'Hitam', 'Hitam', 'Cokelat', 'Cokelat', 'Putih', 'Putih', 'Cokelat'],\n",
        "  'bulu'              : ['Panjang', 'Panjang', 'Pendek', 'Pendek', 'Gimbal', 'Gimbal', 'Panjang', 'Pendek', 'Pendek', 'Gimbal'],\n",
        "  'makanan_kesukaan'  : ['Wortel', 'Wortel', 'Kangkung', 'Kangkung', 'Rumput', 'Rumput', 'Rumput', 'Wortel', 'Kangkung', 'Kangkung'],\n",
        "  'jenis'             : ['A', 'A', 'B', 'B', 'C', 'A', 'B', 'B', 'C', 'C'],\n",
        "}"
      ],
      "execution_count": 3,
      "outputs": []
    },
    {
      "cell_type": "code",
      "metadata": {
        "id": "IxzNfICqjVwL"
      },
      "source": [
        "# data testing di definisikan\n",
        "\n",
        "dt_test = {\n",
        "  'no'                : [1, 2, 3, 4, 5],\n",
        "  'warna'             : ['Hitam', 'Putih', 'Cokelat', 'Putih', 'Cokelat'],\n",
        "  'bulu'              : ['Gimbal', 'Pendek', 'Panjang', 'Panjang', 'Gimbal'],\n",
        "  'makanan_kesukaan'  : ['Rumput', 'Wortel', 'Kangkung', 'Rumput', 'Kangkung'],\n",
        "  'prediksi_jenis'    : ['?', '?', '?', '?', '?'],\n",
        "  'jenis_sebenarnya'  : ['A', 'B', 'C', 'C', 'B']\n",
        "}"
      ],
      "execution_count": 4,
      "outputs": []
    },
    {
      "cell_type": "code",
      "metadata": {
        "id": "0yjNbAW2j5By"
      },
      "source": [
        "# membandingkan dt_training dengan dt_testing\n",
        "\n",
        "dt_train  = pd.DataFrame(dt_train)\n",
        "dt_test   = pd.DataFrame(dt_test)\n",
        "dt_hasil  = dt_test.copy()"
      ],
      "execution_count": 5,
      "outputs": []
    },
    {
      "cell_type": "code",
      "metadata": {
        "colab": {
          "base_uri": "https://localhost:8080/",
          "height": 363
        },
        "id": "6fnxx6PCkGWK",
        "outputId": "2bd5a685-64ba-4173-ce2e-8822675d34c3"
      },
      "source": [
        "# run dt_training\n",
        "\n",
        "dt_train"
      ],
      "execution_count": 6,
      "outputs": [
        {
          "output_type": "execute_result",
          "data": {
            "text/html": [
              "<div>\n",
              "<style scoped>\n",
              "    .dataframe tbody tr th:only-of-type {\n",
              "        vertical-align: middle;\n",
              "    }\n",
              "\n",
              "    .dataframe tbody tr th {\n",
              "        vertical-align: top;\n",
              "    }\n",
              "\n",
              "    .dataframe thead th {\n",
              "        text-align: right;\n",
              "    }\n",
              "</style>\n",
              "<table border=\"1\" class=\"dataframe\">\n",
              "  <thead>\n",
              "    <tr style=\"text-align: right;\">\n",
              "      <th></th>\n",
              "      <th>no</th>\n",
              "      <th>warna</th>\n",
              "      <th>bulu</th>\n",
              "      <th>makanan_kesukaan</th>\n",
              "      <th>jenis</th>\n",
              "    </tr>\n",
              "  </thead>\n",
              "  <tbody>\n",
              "    <tr>\n",
              "      <th>0</th>\n",
              "      <td>1</td>\n",
              "      <td>Hitam</td>\n",
              "      <td>Panjang</td>\n",
              "      <td>Wortel</td>\n",
              "      <td>A</td>\n",
              "    </tr>\n",
              "    <tr>\n",
              "      <th>1</th>\n",
              "      <td>2</td>\n",
              "      <td>Putih</td>\n",
              "      <td>Panjang</td>\n",
              "      <td>Wortel</td>\n",
              "      <td>A</td>\n",
              "    </tr>\n",
              "    <tr>\n",
              "      <th>2</th>\n",
              "      <td>3</td>\n",
              "      <td>Cokelat</td>\n",
              "      <td>Pendek</td>\n",
              "      <td>Kangkung</td>\n",
              "      <td>B</td>\n",
              "    </tr>\n",
              "    <tr>\n",
              "      <th>3</th>\n",
              "      <td>4</td>\n",
              "      <td>Hitam</td>\n",
              "      <td>Pendek</td>\n",
              "      <td>Kangkung</td>\n",
              "      <td>B</td>\n",
              "    </tr>\n",
              "    <tr>\n",
              "      <th>4</th>\n",
              "      <td>5</td>\n",
              "      <td>Hitam</td>\n",
              "      <td>Gimbal</td>\n",
              "      <td>Rumput</td>\n",
              "      <td>C</td>\n",
              "    </tr>\n",
              "    <tr>\n",
              "      <th>5</th>\n",
              "      <td>6</td>\n",
              "      <td>Cokelat</td>\n",
              "      <td>Gimbal</td>\n",
              "      <td>Rumput</td>\n",
              "      <td>A</td>\n",
              "    </tr>\n",
              "    <tr>\n",
              "      <th>6</th>\n",
              "      <td>7</td>\n",
              "      <td>Cokelat</td>\n",
              "      <td>Panjang</td>\n",
              "      <td>Rumput</td>\n",
              "      <td>B</td>\n",
              "    </tr>\n",
              "    <tr>\n",
              "      <th>7</th>\n",
              "      <td>8</td>\n",
              "      <td>Putih</td>\n",
              "      <td>Pendek</td>\n",
              "      <td>Wortel</td>\n",
              "      <td>B</td>\n",
              "    </tr>\n",
              "    <tr>\n",
              "      <th>8</th>\n",
              "      <td>9</td>\n",
              "      <td>Putih</td>\n",
              "      <td>Pendek</td>\n",
              "      <td>Kangkung</td>\n",
              "      <td>C</td>\n",
              "    </tr>\n",
              "    <tr>\n",
              "      <th>9</th>\n",
              "      <td>10</td>\n",
              "      <td>Cokelat</td>\n",
              "      <td>Gimbal</td>\n",
              "      <td>Kangkung</td>\n",
              "      <td>C</td>\n",
              "    </tr>\n",
              "  </tbody>\n",
              "</table>\n",
              "</div>"
            ],
            "text/plain": [
              "   no    warna     bulu makanan_kesukaan jenis\n",
              "0   1    Hitam  Panjang           Wortel     A\n",
              "1   2    Putih  Panjang           Wortel     A\n",
              "2   3  Cokelat   Pendek         Kangkung     B\n",
              "3   4    Hitam   Pendek         Kangkung     B\n",
              "4   5    Hitam   Gimbal           Rumput     C\n",
              "5   6  Cokelat   Gimbal           Rumput     A\n",
              "6   7  Cokelat  Panjang           Rumput     B\n",
              "7   8    Putih   Pendek           Wortel     B\n",
              "8   9    Putih   Pendek         Kangkung     C\n",
              "9  10  Cokelat   Gimbal         Kangkung     C"
            ]
          },
          "metadata": {},
          "execution_count": 6
        }
      ]
    },
    {
      "cell_type": "code",
      "metadata": {
        "colab": {
          "base_uri": "https://localhost:8080/",
          "height": 206
        },
        "id": "ZEjZVEHTpnBx",
        "outputId": "e57af198-6aba-4323-a9ed-dc9fc07a2bcf"
      },
      "source": [
        "# run dt_testing\n",
        "\n",
        "dt_test"
      ],
      "execution_count": 7,
      "outputs": [
        {
          "output_type": "execute_result",
          "data": {
            "text/html": [
              "<div>\n",
              "<style scoped>\n",
              "    .dataframe tbody tr th:only-of-type {\n",
              "        vertical-align: middle;\n",
              "    }\n",
              "\n",
              "    .dataframe tbody tr th {\n",
              "        vertical-align: top;\n",
              "    }\n",
              "\n",
              "    .dataframe thead th {\n",
              "        text-align: right;\n",
              "    }\n",
              "</style>\n",
              "<table border=\"1\" class=\"dataframe\">\n",
              "  <thead>\n",
              "    <tr style=\"text-align: right;\">\n",
              "      <th></th>\n",
              "      <th>no</th>\n",
              "      <th>warna</th>\n",
              "      <th>bulu</th>\n",
              "      <th>makanan_kesukaan</th>\n",
              "      <th>prediksi_jenis</th>\n",
              "      <th>jenis_sebenarnya</th>\n",
              "    </tr>\n",
              "  </thead>\n",
              "  <tbody>\n",
              "    <tr>\n",
              "      <th>0</th>\n",
              "      <td>1</td>\n",
              "      <td>Hitam</td>\n",
              "      <td>Gimbal</td>\n",
              "      <td>Rumput</td>\n",
              "      <td>?</td>\n",
              "      <td>A</td>\n",
              "    </tr>\n",
              "    <tr>\n",
              "      <th>1</th>\n",
              "      <td>2</td>\n",
              "      <td>Putih</td>\n",
              "      <td>Pendek</td>\n",
              "      <td>Wortel</td>\n",
              "      <td>?</td>\n",
              "      <td>B</td>\n",
              "    </tr>\n",
              "    <tr>\n",
              "      <th>2</th>\n",
              "      <td>3</td>\n",
              "      <td>Cokelat</td>\n",
              "      <td>Panjang</td>\n",
              "      <td>Kangkung</td>\n",
              "      <td>?</td>\n",
              "      <td>C</td>\n",
              "    </tr>\n",
              "    <tr>\n",
              "      <th>3</th>\n",
              "      <td>4</td>\n",
              "      <td>Putih</td>\n",
              "      <td>Panjang</td>\n",
              "      <td>Rumput</td>\n",
              "      <td>?</td>\n",
              "      <td>C</td>\n",
              "    </tr>\n",
              "    <tr>\n",
              "      <th>4</th>\n",
              "      <td>5</td>\n",
              "      <td>Cokelat</td>\n",
              "      <td>Gimbal</td>\n",
              "      <td>Kangkung</td>\n",
              "      <td>?</td>\n",
              "      <td>B</td>\n",
              "    </tr>\n",
              "  </tbody>\n",
              "</table>\n",
              "</div>"
            ],
            "text/plain": [
              "   no    warna     bulu makanan_kesukaan prediksi_jenis jenis_sebenarnya\n",
              "0   1    Hitam   Gimbal           Rumput              ?                A\n",
              "1   2    Putih   Pendek           Wortel              ?                B\n",
              "2   3  Cokelat  Panjang         Kangkung              ?                C\n",
              "3   4    Putih  Panjang           Rumput              ?                C\n",
              "4   5  Cokelat   Gimbal         Kangkung              ?                B"
            ]
          },
          "metadata": {},
          "execution_count": 7
        }
      ]
    },
    {
      "cell_type": "code",
      "metadata": {
        "id": "FNPybtkapxvh"
      },
      "source": [
        "# dt_train mengubah label kategori manjadi nilai number\n",
        "\n",
        "for cols in dt_train.select_dtypes(include='object') :\n",
        "  dt_train[cols] = dt_train[cols].astype('category').cat.codes"
      ],
      "execution_count": 11,
      "outputs": []
    },
    {
      "cell_type": "code",
      "metadata": {
        "id": "EP5rdkt2qFBj"
      },
      "source": [
        "# dt_test mengubah label kategori manjadi nilai number\n",
        "\n",
        "for cols in dt_test.select_dtypes(include='object') :\n",
        "  dt_test[cols] = dt_test[cols].astype('category').cat.codes"
      ],
      "execution_count": 12,
      "outputs": []
    },
    {
      "cell_type": "code",
      "metadata": {
        "colab": {
          "base_uri": "https://localhost:8080/",
          "height": 363
        },
        "id": "csqzDP2cqN6T",
        "outputId": "2bce114f-8ed5-4248-d288-07d8ae4b835b"
      },
      "source": [
        "# run dt_training setelah diubah menjadi number\n",
        "\n",
        "dt_train"
      ],
      "execution_count": 13,
      "outputs": [
        {
          "output_type": "execute_result",
          "data": {
            "text/html": [
              "<div>\n",
              "<style scoped>\n",
              "    .dataframe tbody tr th:only-of-type {\n",
              "        vertical-align: middle;\n",
              "    }\n",
              "\n",
              "    .dataframe tbody tr th {\n",
              "        vertical-align: top;\n",
              "    }\n",
              "\n",
              "    .dataframe thead th {\n",
              "        text-align: right;\n",
              "    }\n",
              "</style>\n",
              "<table border=\"1\" class=\"dataframe\">\n",
              "  <thead>\n",
              "    <tr style=\"text-align: right;\">\n",
              "      <th></th>\n",
              "      <th>no</th>\n",
              "      <th>warna</th>\n",
              "      <th>bulu</th>\n",
              "      <th>makanan_kesukaan</th>\n",
              "      <th>jenis</th>\n",
              "    </tr>\n",
              "  </thead>\n",
              "  <tbody>\n",
              "    <tr>\n",
              "      <th>0</th>\n",
              "      <td>1</td>\n",
              "      <td>1</td>\n",
              "      <td>1</td>\n",
              "      <td>2</td>\n",
              "      <td>0</td>\n",
              "    </tr>\n",
              "    <tr>\n",
              "      <th>1</th>\n",
              "      <td>2</td>\n",
              "      <td>2</td>\n",
              "      <td>1</td>\n",
              "      <td>2</td>\n",
              "      <td>0</td>\n",
              "    </tr>\n",
              "    <tr>\n",
              "      <th>2</th>\n",
              "      <td>3</td>\n",
              "      <td>0</td>\n",
              "      <td>2</td>\n",
              "      <td>0</td>\n",
              "      <td>1</td>\n",
              "    </tr>\n",
              "    <tr>\n",
              "      <th>3</th>\n",
              "      <td>4</td>\n",
              "      <td>1</td>\n",
              "      <td>2</td>\n",
              "      <td>0</td>\n",
              "      <td>1</td>\n",
              "    </tr>\n",
              "    <tr>\n",
              "      <th>4</th>\n",
              "      <td>5</td>\n",
              "      <td>1</td>\n",
              "      <td>0</td>\n",
              "      <td>1</td>\n",
              "      <td>2</td>\n",
              "    </tr>\n",
              "    <tr>\n",
              "      <th>5</th>\n",
              "      <td>6</td>\n",
              "      <td>0</td>\n",
              "      <td>0</td>\n",
              "      <td>1</td>\n",
              "      <td>0</td>\n",
              "    </tr>\n",
              "    <tr>\n",
              "      <th>6</th>\n",
              "      <td>7</td>\n",
              "      <td>0</td>\n",
              "      <td>1</td>\n",
              "      <td>1</td>\n",
              "      <td>1</td>\n",
              "    </tr>\n",
              "    <tr>\n",
              "      <th>7</th>\n",
              "      <td>8</td>\n",
              "      <td>2</td>\n",
              "      <td>2</td>\n",
              "      <td>2</td>\n",
              "      <td>1</td>\n",
              "    </tr>\n",
              "    <tr>\n",
              "      <th>8</th>\n",
              "      <td>9</td>\n",
              "      <td>2</td>\n",
              "      <td>2</td>\n",
              "      <td>0</td>\n",
              "      <td>2</td>\n",
              "    </tr>\n",
              "    <tr>\n",
              "      <th>9</th>\n",
              "      <td>10</td>\n",
              "      <td>0</td>\n",
              "      <td>0</td>\n",
              "      <td>0</td>\n",
              "      <td>2</td>\n",
              "    </tr>\n",
              "  </tbody>\n",
              "</table>\n",
              "</div>"
            ],
            "text/plain": [
              "   no  warna  bulu  makanan_kesukaan  jenis\n",
              "0   1      1     1                 2      0\n",
              "1   2      2     1                 2      0\n",
              "2   3      0     2                 0      1\n",
              "3   4      1     2                 0      1\n",
              "4   5      1     0                 1      2\n",
              "5   6      0     0                 1      0\n",
              "6   7      0     1                 1      1\n",
              "7   8      2     2                 2      1\n",
              "8   9      2     2                 0      2\n",
              "9  10      0     0                 0      2"
            ]
          },
          "metadata": {},
          "execution_count": 13
        }
      ]
    },
    {
      "cell_type": "code",
      "metadata": {
        "colab": {
          "base_uri": "https://localhost:8080/",
          "height": 206
        },
        "id": "VFmDQh1VqUcC",
        "outputId": "61617adb-9721-4f88-9ea0-b17c7a34ef29"
      },
      "source": [
        "# run dt_testing setelah diubah menjadi number\n",
        "\n",
        "dt_test"
      ],
      "execution_count": 14,
      "outputs": [
        {
          "output_type": "execute_result",
          "data": {
            "text/html": [
              "<div>\n",
              "<style scoped>\n",
              "    .dataframe tbody tr th:only-of-type {\n",
              "        vertical-align: middle;\n",
              "    }\n",
              "\n",
              "    .dataframe tbody tr th {\n",
              "        vertical-align: top;\n",
              "    }\n",
              "\n",
              "    .dataframe thead th {\n",
              "        text-align: right;\n",
              "    }\n",
              "</style>\n",
              "<table border=\"1\" class=\"dataframe\">\n",
              "  <thead>\n",
              "    <tr style=\"text-align: right;\">\n",
              "      <th></th>\n",
              "      <th>no</th>\n",
              "      <th>warna</th>\n",
              "      <th>bulu</th>\n",
              "      <th>makanan_kesukaan</th>\n",
              "      <th>prediksi_jenis</th>\n",
              "      <th>jenis_sebenarnya</th>\n",
              "    </tr>\n",
              "  </thead>\n",
              "  <tbody>\n",
              "    <tr>\n",
              "      <th>0</th>\n",
              "      <td>1</td>\n",
              "      <td>1</td>\n",
              "      <td>0</td>\n",
              "      <td>1</td>\n",
              "      <td>0</td>\n",
              "      <td>0</td>\n",
              "    </tr>\n",
              "    <tr>\n",
              "      <th>1</th>\n",
              "      <td>2</td>\n",
              "      <td>2</td>\n",
              "      <td>2</td>\n",
              "      <td>2</td>\n",
              "      <td>0</td>\n",
              "      <td>1</td>\n",
              "    </tr>\n",
              "    <tr>\n",
              "      <th>2</th>\n",
              "      <td>3</td>\n",
              "      <td>0</td>\n",
              "      <td>1</td>\n",
              "      <td>0</td>\n",
              "      <td>0</td>\n",
              "      <td>2</td>\n",
              "    </tr>\n",
              "    <tr>\n",
              "      <th>3</th>\n",
              "      <td>4</td>\n",
              "      <td>2</td>\n",
              "      <td>1</td>\n",
              "      <td>1</td>\n",
              "      <td>0</td>\n",
              "      <td>2</td>\n",
              "    </tr>\n",
              "    <tr>\n",
              "      <th>4</th>\n",
              "      <td>5</td>\n",
              "      <td>0</td>\n",
              "      <td>0</td>\n",
              "      <td>0</td>\n",
              "      <td>0</td>\n",
              "      <td>1</td>\n",
              "    </tr>\n",
              "  </tbody>\n",
              "</table>\n",
              "</div>"
            ],
            "text/plain": [
              "   no  warna  bulu  makanan_kesukaan  prediksi_jenis  jenis_sebenarnya\n",
              "0   1      1     0                 1               0                 0\n",
              "1   2      2     2                 2               0                 1\n",
              "2   3      0     1                 0               0                 2\n",
              "3   4      2     1                 1               0                 2\n",
              "4   5      0     0                 0               0                 1"
            ]
          },
          "metadata": {},
          "execution_count": 14
        }
      ]
    },
    {
      "cell_type": "code",
      "metadata": {
        "id": "--3docEYqhpv"
      },
      "source": [
        "# set feature dan target variabel\n",
        "\n",
        "feature_cols = ['warna', 'bulu', 'makanan_kesukaan']\n",
        "x_train = dt_train[feature_cols]\n",
        "y_train = dt_train.jenis\n",
        "x_test  = dt_test[feature_cols]\n",
        "y_test  = dt_test.jenis_sebenarnya"
      ],
      "execution_count": 15,
      "outputs": []
    },
    {
      "cell_type": "code",
      "metadata": {
        "id": "qdcFmJR7qoi3"
      },
      "source": [
        "# running decision tree algorithm\n",
        "\n",
        "clf = DecisionTreeClassifier(max_depth=2)\n",
        "clf = clf.fit(x_train, y_train)"
      ],
      "execution_count": 16,
      "outputs": []
    },
    {
      "cell_type": "code",
      "metadata": {
        "colab": {
          "base_uri": "https://localhost:8080/"
        },
        "id": "kIrj5kweqvQs",
        "outputId": "8e405ce2-a5d1-455a-f75c-b29efe73eaa4"
      },
      "source": [
        "y_prediksi  = clf.predict(x_test)\n",
        "result      = confusion_matrix(y_test, y_prediksi)\n",
        "print(\"Confusion Matrix:\")\n",
        "print(result)\n",
        "result1     = classification_report(y_test, y_prediksi)\n",
        "print(\"Classification Report:\")\n",
        "print(result1)\n",
        "result2     = accuracy_score(y_test, y_prediksi)\n",
        "print(\"Accuracy:\", result2)"
      ],
      "execution_count": 17,
      "outputs": [
        {
          "output_type": "stream",
          "name": "stdout",
          "text": [
            "Confusion Matrix:\n",
            "[[0 0 1]\n",
            " [0 1 1]\n",
            " [0 0 2]]\n",
            "Classification Report:\n",
            "              precision    recall  f1-score   support\n",
            "\n",
            "           0       0.00      0.00      0.00         1\n",
            "           1       1.00      0.50      0.67         2\n",
            "           2       0.50      1.00      0.67         2\n",
            "\n",
            "    accuracy                           0.60         5\n",
            "   macro avg       0.50      0.50      0.44         5\n",
            "weighted avg       0.60      0.60      0.53         5\n",
            "\n",
            "Accuracy: 0.6\n"
          ]
        },
        {
          "output_type": "stream",
          "name": "stderr",
          "text": [
            "/usr/local/lib/python3.7/dist-packages/sklearn/metrics/_classification.py:1308: UndefinedMetricWarning: Precision and F-score are ill-defined and being set to 0.0 in labels with no predicted samples. Use `zero_division` parameter to control this behavior.\n",
            "  _warn_prf(average, modifier, msg_start, len(result))\n",
            "/usr/local/lib/python3.7/dist-packages/sklearn/metrics/_classification.py:1308: UndefinedMetricWarning: Precision and F-score are ill-defined and being set to 0.0 in labels with no predicted samples. Use `zero_division` parameter to control this behavior.\n",
            "  _warn_prf(average, modifier, msg_start, len(result))\n",
            "/usr/local/lib/python3.7/dist-packages/sklearn/metrics/_classification.py:1308: UndefinedMetricWarning: Precision and F-score are ill-defined and being set to 0.0 in labels with no predicted samples. Use `zero_division` parameter to control this behavior.\n",
            "  _warn_prf(average, modifier, msg_start, len(result))\n"
          ]
        }
      ]
    },
    {
      "cell_type": "code",
      "metadata": {
        "id": "mnMuD9hZq4zd"
      },
      "source": [
        "# running naive bayes algorithm\n",
        "\n",
        "clf2 = MultinomialNB()\n",
        "clf2 = clf2.fit(x_train, y_train)"
      ],
      "execution_count": 18,
      "outputs": []
    },
    {
      "cell_type": "code",
      "metadata": {
        "colab": {
          "base_uri": "https://localhost:8080/"
        },
        "id": "5U3wdfTSq76l",
        "outputId": "16f481d9-000a-48be-f410-5c7ef6dbab85"
      },
      "source": [
        "y_prediksi2 = clf2.predict(x_test)\n",
        "result      = confusion_matrix(y_test, y_prediksi2)\n",
        "print(\"Confusion Matrix:\")\n",
        "print(result)\n",
        "result1     = classification_report(y_test, y_prediksi2)\n",
        "print(\"Classification Report:\")\n",
        "print(result1)\n",
        "result2     = accuracy_score(y_test, y_prediksi2)\n",
        "print(\"Accuracy:\", result2)"
      ],
      "execution_count": 19,
      "outputs": [
        {
          "output_type": "stream",
          "name": "stdout",
          "text": [
            "Confusion Matrix:\n",
            "[[1 0 0]\n",
            " [0 2 0]\n",
            " [0 1 1]]\n",
            "Classification Report:\n",
            "              precision    recall  f1-score   support\n",
            "\n",
            "           0       1.00      1.00      1.00         1\n",
            "           1       0.67      1.00      0.80         2\n",
            "           2       1.00      0.50      0.67         2\n",
            "\n",
            "    accuracy                           0.80         5\n",
            "   macro avg       0.89      0.83      0.82         5\n",
            "weighted avg       0.87      0.80      0.79         5\n",
            "\n",
            "Accuracy: 0.8\n"
          ]
        }
      ]
    },
    {
      "cell_type": "code",
      "metadata": {
        "id": "LOLmVZLXrC3a"
      },
      "source": [
        "# hasil setelah dilakukannya decision tree dan naive bayes\n",
        "\n",
        "# mengambil variabel dari algoritma decision tree\n",
        "dt_hasil['prediksi_jenis_decision_tree']  = y_prediksi\n",
        "# mengambil variabel dari algoritma naive bayes\n",
        "dt_hasil['prediksi_jenis_naive_bayes']    = y_prediksi2\n",
        "\n",
        "dt_hasil['prediksi_jenis_decision_tree'].replace({0:'A', 1:'B', 2:'C'}, inplace=True)\n",
        "dt_hasil['prediksi_jenis_naive_bayes'].replace({0:'A', 1:'B', 2:'C'}, inplace=True)"
      ],
      "execution_count": 26,
      "outputs": []
    },
    {
      "cell_type": "code",
      "metadata": {
        "colab": {
          "base_uri": "https://localhost:8080/",
          "height": 206
        },
        "id": "ZDIKYpOfrOZw",
        "outputId": "f062323d-da8f-490c-d9ba-c34db890803b"
      },
      "source": [
        "# run dt_hasil\n",
        "\n",
        "dt_hasil"
      ],
      "execution_count": 27,
      "outputs": [
        {
          "output_type": "execute_result",
          "data": {
            "text/html": [
              "<div>\n",
              "<style scoped>\n",
              "    .dataframe tbody tr th:only-of-type {\n",
              "        vertical-align: middle;\n",
              "    }\n",
              "\n",
              "    .dataframe tbody tr th {\n",
              "        vertical-align: top;\n",
              "    }\n",
              "\n",
              "    .dataframe thead th {\n",
              "        text-align: right;\n",
              "    }\n",
              "</style>\n",
              "<table border=\"1\" class=\"dataframe\">\n",
              "  <thead>\n",
              "    <tr style=\"text-align: right;\">\n",
              "      <th></th>\n",
              "      <th>no</th>\n",
              "      <th>warna</th>\n",
              "      <th>bulu</th>\n",
              "      <th>makanan_kesukaan</th>\n",
              "      <th>prediksi_jenis</th>\n",
              "      <th>jenis_sebenarnya</th>\n",
              "      <th>prediksi_jenis_decision_tree</th>\n",
              "      <th>prediksi_jenis_naive_bayes</th>\n",
              "    </tr>\n",
              "  </thead>\n",
              "  <tbody>\n",
              "    <tr>\n",
              "      <th>0</th>\n",
              "      <td>1</td>\n",
              "      <td>Hitam</td>\n",
              "      <td>Gimbal</td>\n",
              "      <td>Rumput</td>\n",
              "      <td>?</td>\n",
              "      <td>A</td>\n",
              "      <td>C</td>\n",
              "      <td>A</td>\n",
              "    </tr>\n",
              "    <tr>\n",
              "      <th>1</th>\n",
              "      <td>2</td>\n",
              "      <td>Putih</td>\n",
              "      <td>Pendek</td>\n",
              "      <td>Wortel</td>\n",
              "      <td>?</td>\n",
              "      <td>B</td>\n",
              "      <td>B</td>\n",
              "      <td>B</td>\n",
              "    </tr>\n",
              "    <tr>\n",
              "      <th>2</th>\n",
              "      <td>3</td>\n",
              "      <td>Cokelat</td>\n",
              "      <td>Panjang</td>\n",
              "      <td>Kangkung</td>\n",
              "      <td>?</td>\n",
              "      <td>C</td>\n",
              "      <td>C</td>\n",
              "      <td>B</td>\n",
              "    </tr>\n",
              "    <tr>\n",
              "      <th>3</th>\n",
              "      <td>4</td>\n",
              "      <td>Putih</td>\n",
              "      <td>Panjang</td>\n",
              "      <td>Rumput</td>\n",
              "      <td>?</td>\n",
              "      <td>C</td>\n",
              "      <td>C</td>\n",
              "      <td>C</td>\n",
              "    </tr>\n",
              "    <tr>\n",
              "      <th>4</th>\n",
              "      <td>5</td>\n",
              "      <td>Cokelat</td>\n",
              "      <td>Gimbal</td>\n",
              "      <td>Kangkung</td>\n",
              "      <td>?</td>\n",
              "      <td>B</td>\n",
              "      <td>C</td>\n",
              "      <td>B</td>\n",
              "    </tr>\n",
              "  </tbody>\n",
              "</table>\n",
              "</div>"
            ],
            "text/plain": [
              "   no    warna  ... prediksi_jenis_decision_tree prediksi_jenis_naive_bayes\n",
              "0   1    Hitam  ...                            C                          A\n",
              "1   2    Putih  ...                            B                          B\n",
              "2   3  Cokelat  ...                            C                          B\n",
              "3   4    Putih  ...                            C                          C\n",
              "4   5  Cokelat  ...                            C                          B\n",
              "\n",
              "[5 rows x 8 columns]"
            ]
          },
          "metadata": {},
          "execution_count": 27
        }
      ]
    }
  ]
}